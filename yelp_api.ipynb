{
 "cells": [
  {
   "cell_type": "code",
   "execution_count": 43,
   "metadata": {
    "collapsed": true
   },
   "outputs": [],
   "source": [
    "from yelp.client import Client\n",
    "from yelp.oauth1_authenticator import Oauth1Authenticator\n",
    "import pandas as pd"
   ]
  },
  {
   "cell_type": "code",
   "execution_count": 2,
   "metadata": {
    "collapsed": true
   },
   "outputs": [],
   "source": [
    "#You can sign up for an API key at https://www.yelp.com/developers/manage_api_keys.\n",
    "auth = Oauth1Authenticator(\n",
    "    consumer_key=\"OWL4_mqa56BdJi3YPwKyZg\",\n",
    "    consumer_secret=\"20kmMkEn5XFSL1pQTrab1NHpkgI\",\n",
    "    token=\"oCGcV-e7pe8enQjIqYVyp3AeG3kIhzOG\",\n",
    "    token_secret= \"Ilwmaedki4miIh9izNFdDz3w958\"\n",
    ")\n",
    "\n",
    "client = Client(auth)"
   ]
  },
  {
   "cell_type": "code",
   "execution_count": 38,
   "metadata": {
    "collapsed": false
   },
   "outputs": [],
   "source": [
    "params = {\n",
    "    'term': 'food',\n",
    "    'limit': 30,\n",
    "    'lang': 'en'\n",
    "}\n",
    "response=client.search('denver', **params)"
   ]
  },
  {
   "cell_type": "code",
   "execution_count": 39,
   "metadata": {
    "collapsed": false
   },
   "outputs": [
    {
     "data": {
      "text/plain": [
       "30"
      ]
     },
     "execution_count": 39,
     "metadata": {},
     "output_type": "execute_result"
    }
   ],
   "source": [
    "len(response.businesses)"
   ]
  },
  {
   "cell_type": "code",
   "execution_count": 42,
   "metadata": {
    "collapsed": false
   },
   "outputs": [
    {
     "name": "stdout",
     "output_type": "stream",
     "text": [
      "Kitchen Table: BBQ & Comfort Food 4.5\n",
      "Moxie Eatery 5.0\n",
      "Chop Shop Casual Urban Eatery 4.5\n",
      "Denver Biscuit Co. 4.5\n",
      "Work & Class 4.5\n",
      "Meadowlark Kitchen 4.5\n",
      "Maria Empanada 4.5\n",
      "Torta Grill 4.5\n",
      "Biker Jim's Gourmet Dogs 4.5\n",
      "Liang's Thai Food 4.5\n",
      "Las Tortas 4.5\n",
      "Vert Kitchen 4.5\n",
      "Blunozer Cafe 5.0\n",
      "Butcher's Bistro 4.5\n",
      "Illegal Pete's 4.0\n",
      "Euclid Hall Bar & Kitchen 4.0\n",
      "The Uber Sausage 4.5\n",
      "Taqueria La Familia 5.0\n",
      "Dunbar Kitchen & Tap House 4.5\n",
      "Olive & Finch 4.5\n",
      "Biker Jim's Gourmet Dogs 4.5\n",
      "Uber Eats 4.5\n",
      "Sliceworks 4.5\n",
      "Hopdoddy Burger Bar 4.5\n",
      "Las Margs 4.5\n",
      "Marion Street Tavern 4.5\n",
      "True Food Kitchen 4.0\n",
      "Ian's Pizza 4.5\n",
      "Biju's Little Curry Shop 4.5\n",
      "Denver Ted's 4.0\n"
     ]
    }
   ],
   "source": [
    "name=[]\n",
    "rating=[]\n",
    "for i in range(0, len(response.businesses)): \n",
    "    \n",
    "    name.append(response.businesses[i].name)\n",
    "    rating.append(response.businesses[i].rating)\n",
    "\n"
   ]
  },
  {
   "cell_type": "code",
   "execution_count": 46,
   "metadata": {
    "collapsed": false
   },
   "outputs": [
    {
     "data": {
      "text/html": [
       "<div>\n",
       "<table border=\"1\" class=\"dataframe\">\n",
       "  <thead>\n",
       "    <tr style=\"text-align: right;\">\n",
       "      <th></th>\n",
       "      <th>Name</th>\n",
       "      <th>Ratings</th>\n",
       "    </tr>\n",
       "  </thead>\n",
       "  <tbody>\n",
       "    <tr>\n",
       "      <th>0</th>\n",
       "      <td>Kitchen Table: BBQ &amp; Comfort Food</td>\n",
       "      <td>4.5</td>\n",
       "    </tr>\n",
       "    <tr>\n",
       "      <th>1</th>\n",
       "      <td>Moxie Eatery</td>\n",
       "      <td>5.0</td>\n",
       "    </tr>\n",
       "    <tr>\n",
       "      <th>2</th>\n",
       "      <td>Chop Shop Casual Urban Eatery</td>\n",
       "      <td>4.5</td>\n",
       "    </tr>\n",
       "    <tr>\n",
       "      <th>3</th>\n",
       "      <td>Denver Biscuit Co.</td>\n",
       "      <td>4.5</td>\n",
       "    </tr>\n",
       "    <tr>\n",
       "      <th>4</th>\n",
       "      <td>Work &amp; Class</td>\n",
       "      <td>4.5</td>\n",
       "    </tr>\n",
       "    <tr>\n",
       "      <th>5</th>\n",
       "      <td>Meadowlark Kitchen</td>\n",
       "      <td>4.5</td>\n",
       "    </tr>\n",
       "    <tr>\n",
       "      <th>6</th>\n",
       "      <td>Maria Empanada</td>\n",
       "      <td>4.5</td>\n",
       "    </tr>\n",
       "    <tr>\n",
       "      <th>7</th>\n",
       "      <td>Torta Grill</td>\n",
       "      <td>4.5</td>\n",
       "    </tr>\n",
       "    <tr>\n",
       "      <th>8</th>\n",
       "      <td>Biker Jim's Gourmet Dogs</td>\n",
       "      <td>4.5</td>\n",
       "    </tr>\n",
       "    <tr>\n",
       "      <th>9</th>\n",
       "      <td>Liang's Thai Food</td>\n",
       "      <td>4.5</td>\n",
       "    </tr>\n",
       "    <tr>\n",
       "      <th>10</th>\n",
       "      <td>Las Tortas</td>\n",
       "      <td>4.5</td>\n",
       "    </tr>\n",
       "    <tr>\n",
       "      <th>11</th>\n",
       "      <td>Vert Kitchen</td>\n",
       "      <td>4.5</td>\n",
       "    </tr>\n",
       "    <tr>\n",
       "      <th>12</th>\n",
       "      <td>Blunozer Cafe</td>\n",
       "      <td>5.0</td>\n",
       "    </tr>\n",
       "    <tr>\n",
       "      <th>13</th>\n",
       "      <td>Butcher's Bistro</td>\n",
       "      <td>4.5</td>\n",
       "    </tr>\n",
       "    <tr>\n",
       "      <th>14</th>\n",
       "      <td>Illegal Pete's</td>\n",
       "      <td>4.0</td>\n",
       "    </tr>\n",
       "    <tr>\n",
       "      <th>15</th>\n",
       "      <td>Euclid Hall Bar &amp; Kitchen</td>\n",
       "      <td>4.0</td>\n",
       "    </tr>\n",
       "    <tr>\n",
       "      <th>16</th>\n",
       "      <td>The Uber Sausage</td>\n",
       "      <td>4.5</td>\n",
       "    </tr>\n",
       "    <tr>\n",
       "      <th>17</th>\n",
       "      <td>Taqueria La Familia</td>\n",
       "      <td>5.0</td>\n",
       "    </tr>\n",
       "    <tr>\n",
       "      <th>18</th>\n",
       "      <td>Dunbar Kitchen &amp; Tap House</td>\n",
       "      <td>4.5</td>\n",
       "    </tr>\n",
       "    <tr>\n",
       "      <th>19</th>\n",
       "      <td>Olive &amp; Finch</td>\n",
       "      <td>4.5</td>\n",
       "    </tr>\n",
       "    <tr>\n",
       "      <th>20</th>\n",
       "      <td>Biker Jim's Gourmet Dogs</td>\n",
       "      <td>4.5</td>\n",
       "    </tr>\n",
       "    <tr>\n",
       "      <th>21</th>\n",
       "      <td>Uber Eats</td>\n",
       "      <td>4.5</td>\n",
       "    </tr>\n",
       "    <tr>\n",
       "      <th>22</th>\n",
       "      <td>Sliceworks</td>\n",
       "      <td>4.5</td>\n",
       "    </tr>\n",
       "    <tr>\n",
       "      <th>23</th>\n",
       "      <td>Hopdoddy Burger Bar</td>\n",
       "      <td>4.5</td>\n",
       "    </tr>\n",
       "    <tr>\n",
       "      <th>24</th>\n",
       "      <td>Las Margs</td>\n",
       "      <td>4.5</td>\n",
       "    </tr>\n",
       "    <tr>\n",
       "      <th>25</th>\n",
       "      <td>Marion Street Tavern</td>\n",
       "      <td>4.5</td>\n",
       "    </tr>\n",
       "    <tr>\n",
       "      <th>26</th>\n",
       "      <td>True Food Kitchen</td>\n",
       "      <td>4.0</td>\n",
       "    </tr>\n",
       "    <tr>\n",
       "      <th>27</th>\n",
       "      <td>Ian's Pizza</td>\n",
       "      <td>4.5</td>\n",
       "    </tr>\n",
       "    <tr>\n",
       "      <th>28</th>\n",
       "      <td>Biju's Little Curry Shop</td>\n",
       "      <td>4.5</td>\n",
       "    </tr>\n",
       "    <tr>\n",
       "      <th>29</th>\n",
       "      <td>Denver Ted's</td>\n",
       "      <td>4.0</td>\n",
       "    </tr>\n",
       "  </tbody>\n",
       "</table>\n",
       "</div>"
      ],
      "text/plain": [
       "                                 Name  Ratings\n",
       "0   Kitchen Table: BBQ & Comfort Food      4.5\n",
       "1                        Moxie Eatery      5.0\n",
       "2       Chop Shop Casual Urban Eatery      4.5\n",
       "3                  Denver Biscuit Co.      4.5\n",
       "4                        Work & Class      4.5\n",
       "5                  Meadowlark Kitchen      4.5\n",
       "6                      Maria Empanada      4.5\n",
       "7                         Torta Grill      4.5\n",
       "8            Biker Jim's Gourmet Dogs      4.5\n",
       "9                   Liang's Thai Food      4.5\n",
       "10                         Las Tortas      4.5\n",
       "11                       Vert Kitchen      4.5\n",
       "12                      Blunozer Cafe      5.0\n",
       "13                   Butcher's Bistro      4.5\n",
       "14                     Illegal Pete's      4.0\n",
       "15          Euclid Hall Bar & Kitchen      4.0\n",
       "16                   The Uber Sausage      4.5\n",
       "17                Taqueria La Familia      5.0\n",
       "18         Dunbar Kitchen & Tap House      4.5\n",
       "19                      Olive & Finch      4.5\n",
       "20           Biker Jim's Gourmet Dogs      4.5\n",
       "21                          Uber Eats      4.5\n",
       "22                         Sliceworks      4.5\n",
       "23                Hopdoddy Burger Bar      4.5\n",
       "24                          Las Margs      4.5\n",
       "25               Marion Street Tavern      4.5\n",
       "26                  True Food Kitchen      4.0\n",
       "27                        Ian's Pizza      4.5\n",
       "28           Biju's Little Curry Shop      4.5\n",
       "29                       Denver Ted's      4.0"
      ]
     },
     "execution_count": 46,
     "metadata": {},
     "output_type": "execute_result"
    }
   ],
   "source": [
    "summary=pd.DataFrame({'Name': name, 'Ratings': rating})\n",
    "summary"
   ]
  }
 ],
 "metadata": {
  "kernelspec": {
   "display_name": "Python 3",
   "language": "python",
   "name": "python3"
  },
  "language_info": {
   "codemirror_mode": {
    "name": "ipython",
    "version": 3
   },
   "file_extension": ".py",
   "mimetype": "text/x-python",
   "name": "python",
   "nbconvert_exporter": "python",
   "pygments_lexer": "ipython3",
   "version": "3.5.2"
  }
 },
 "nbformat": 4,
 "nbformat_minor": 0
}
