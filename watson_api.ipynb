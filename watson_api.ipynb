{
 "cells": [
  {
   "cell_type": "code",
   "execution_count": 1,
   "metadata": {
    "collapsed": true
   },
   "outputs": [],
   "source": [
    "import json\n",
    "from os.path import join, dirname\n",
    "from watson_developer_cloud import NaturalLanguageClassifierV1"
   ]
  },
  {
   "cell_type": "code",
   "execution_count": 2,
   "metadata": {
    "collapsed": false
   },
   "outputs": [],
   "source": [
    "natural_language_classifier = NaturalLanguageClassifierV1(\n",
    "    username=\"YOUR_USERNAME\",\n",
    "    password=\"YOUR_PASSWORD\")"
   ]
  },
  {
   "cell_type": "code",
   "execution_count": 3,
   "metadata": {
    "collapsed": false
   },
   "outputs": [],
   "source": [
    "with open('weather_data.csv') as training_data:\n",
    "    classifier = natural_language_classifier.create(\n",
    "    training_data=training_data,\n",
    "    name='My Classfier',\n",
    "    language='en'\n",
    "  )"
   ]
  },
  {
   "cell_type": "code",
   "execution_count": 9,
   "metadata": {
    "collapsed": false
   },
   "outputs": [
    {
     "data": {
      "text/plain": [
       "dict"
      ]
     },
     "execution_count": 9,
     "metadata": {},
     "output_type": "execute_result"
    }
   ],
   "source": [
    "classifiers = natural_language_classifier.list()\n",
    "type(classifiers)"
   ]
  },
  {
   "cell_type": "code",
   "execution_count": 5,
   "metadata": {
    "collapsed": false
   },
   "outputs": [
    {
     "name": "stdout",
     "output_type": "stream",
     "text": [
      "{\n",
      "  \"classifiers\": [\n",
      "    {\n",
      "      \"language\": \"en\",\n",
      "      \"url\": \"https://gateway.watsonplatform.net/natural-language-classifier/api/v1/classifiers/ff18c7x157-nlc-594\",\n",
      "      \"name\": \"My Classfier\",\n",
      "      \"created\": \"2016-12-19T18:51:02.857Z\",\n",
      "      \"classifier_id\": \"ff18c7x157-nlc-594\"\n",
      "    }\n",
      "  ]\n",
      "}\n"
     ]
    }
   ],
   "source": [
    "print(json.dumps(classifiers, indent=2))\n"
   ]
  },
  {
   "cell_type": "code",
   "execution_count": 16,
   "metadata": {
    "collapsed": false
   },
   "outputs": [
    {
     "name": "stdout",
     "output_type": "stream",
     "text": [
      "{\n",
      "  \"name\": \"My Classfier\",\n",
      "  \"status\": \"Available\",\n",
      "  \"url\": \"https://gateway.watsonplatform.net/natural-language-classifier/api/v1/classifiers/ff18c7x157-nlc-594\",\n",
      "  \"status_description\": \"The classifier instance is now available and is ready to take classifier requests.\",\n",
      "  \"language\": \"en\",\n",
      "  \"classifier_id\": \"ff18c7x157-nlc-594\",\n",
      "  \"created\": \"2016-12-19T18:51:02.857Z\"\n",
      "}\n"
     ]
    }
   ],
   "source": [
    "status = natural_language_classifier.status('ff18c7x157-nlc-594')\n",
    "print (json.dumps(status, indent=2))\n",
    "#it should say under status description \"the classifier instance is now available and is ready to take classifier requests.\""
   ]
  },
  {
   "cell_type": "code",
   "execution_count": 18,
   "metadata": {
    "collapsed": false
   },
   "outputs": [
    {
     "name": "stdout",
     "output_type": "stream",
     "text": [
      "{\n",
      "  \"text\": \"will it snow today?\",\n",
      "  \"url\": \"https://gateway.watsonplatform.net/natural-language-classifier/api/v1/classifiers/ff18c7x157-nlc-594\",\n",
      "  \"top_class\": \"conditions\",\n",
      "  \"classes\": [\n",
      "    {\n",
      "      \"class_name\": \"conditions\",\n",
      "      \"confidence\": 0.9931934994491118\n",
      "    },\n",
      "    {\n",
      "      \"class_name\": \"temperature\",\n",
      "      \"confidence\": 0.00680650055088808\n",
      "    }\n",
      "  ],\n",
      "  \"classifier_id\": \"ff18c7x157-nlc-594\"\n",
      "}\n"
     ]
    }
   ],
   "source": [
    "classes = natural_language_classifier.classify('ff18c7x157-nlc-594', 'will it snow today?')\n",
    "print(json.dumps(classes, indent=2))"
   ]
  },
  {
   "cell_type": "code",
   "execution_count": null,
   "metadata": {
    "collapsed": true
   },
   "outputs": [],
   "source": []
  }
 ],
 "metadata": {
  "anaconda-cloud": {},
  "kernelspec": {
   "display_name": "Python [default]",
   "language": "python",
   "name": "python3"
  },
  "language_info": {
   "codemirror_mode": {
    "name": "ipython",
    "version": 3
   },
   "file_extension": ".py",
   "mimetype": "text/x-python",
   "name": "python",
   "nbconvert_exporter": "python",
   "pygments_lexer": "ipython3",
   "version": "3.5.2"
  }
 },
 "nbformat": 4,
 "nbformat_minor": 1
}
