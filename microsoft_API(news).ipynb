{
 "cells": [
  {
   "cell_type": "code",
   "execution_count": 1,
   "metadata": {
    "collapsed": true
   },
   "outputs": [],
   "source": [
    "import json\n",
    "import requests"
   ]
  },
  {
   "cell_type": "markdown",
   "metadata": {},
   "source": [
    "The json library has two main methods:\n",
    "\n",
    "    dumps – Takes in a Python object, and converts it to a string.\n",
    "    loads – Takes a JSON string, and converts it to a Python object.\n",
    "Strings are the way that we pass information back and forth to APIs,"
   ]
  },
  {
   "cell_type": "code",
   "execution_count": 2,
   "metadata": {
    "collapsed": false
   },
   "outputs": [],
   "source": [
    "import http.client, urllib.request, urllib.parse, urllib.error"
   ]
  },
  {
   "cell_type": "code",
   "execution_count": 3,
   "metadata": {
    "collapsed": false
   },
   "outputs": [],
   "source": [
    "headers = {\n",
    "    # Request headers\n",
    "    'Ocp-Apim-Subscription-Key': '42c62598896141f79b65fb1550ce83a7',\n",
    "}\n"
   ]
  },
  {
   "cell_type": "code",
   "execution_count": 4,
   "metadata": {
    "collapsed": true
   },
   "outputs": [],
   "source": [
    "params = urllib.parse.urlencode({\n",
    "})"
   ]
  },
  {
   "cell_type": "code",
   "execution_count": 5,
   "metadata": {
    "collapsed": false
   },
   "outputs": [
    {
     "name": "stdout",
     "output_type": "stream",
     "text": [
      "{\"_type\": \"TrendingTopics\", \"value\": [{\"name\": \"Gun attacks in Jordan\", \"image\": {\"url\": \"https:\\/\\/www.bing.com\\/th?id=OPN.RTNews_mQd5Ai4k0MioZ764ybuTeQ&c=7&rs=2&qlt=80&pcl=f9f9f9&pid=News\", \"provider\": [{\"_type\": \"Organization\", \"name\": \"© Jordan Pix\\/Getty Images\"}]}, \"webSearchUrl\": \"https:\\/\\/www.bing.com\\/cr?IG=2976991FF3094B0CA19B210262B1297D&CID=131DD588171769AF129FDC781626682D&rd=1&h=1e5Lg89K6lq0BoceH-zTDqQmoboIL64JMoiiSdnhOsw&v=1&r=https%3a%2f%2fwww.bing.com%2fsearch%3fq%3dJordan%2battacks%26filters%3dtnTID%253a%2522594872E6-B310-4542-B6F1-6988D59325C4%2522%2btnVersion%253a%25221734823%2522%2bSegment%253a%2522popularnow.carousel%2522%2btnCol%253a%25220%2522%2btnScenario%253a%2522TrendingTopicsAPI%2522%2btnOrder%253a%252214a66490-265e-4455-b4e6-a9632d9b52f6%2522%26form%3dTNSA01&p=DevEx,5003.1\", \"isBreakingNews\": false, \"query\": {\"text\": \"Jordan attacks\"}}, {\"name\": \"Electoral College vote\", \"image\": {\"url\": \"https:\\/\\/www.bing.com\\/th?id=OPN.RTNews_oySdLau4Q-k0e5xkpfcyJw&c=7&rs=2&qlt=80&pcl=f9f9f9&pid=News\", \"provider\": [{\"_type\": \"Organization\", \"name\": \"© imageBroker\\/REX\\/Shutterstock\"}]}, \"webSearchUrl\": \"https:\\/\\/www.bing.com\\/cr?IG=2976991FF3094B0CA19B210262B1297D&CID=131DD588171769AF129FDC781626682D&rd=1&h=xqC-omTOj0064YTXFonmGq-zMKC1NBkbWK8UtuoHmX4&v=1&r=https%3a%2f%2fwww.bing.com%2fsearch%3fq%3dElectoral%2bCollege%2bMonday%26filters%3dtnTID%253a%2522F6D0F6F6-E9AC-49cf-808F-8FFB337DC86F%2522%2btnVersion%253a%25221734823%2522%2bSegment%253a%2522popularnow.carousel%2522%2btnCol%253a%25221%2522%2btnScenario%253a%2522TrendingTopicsAPI%2522%2btnOrder%253a%252214a66490-265e-4455-b4e6-a9632d9b52f6%2522%26form%3dTNSA01&p=DevEx,5004.1\", \"isBreakingNews\": false, \"query\": {\"text\": \"Electoral College Monday\"}}, {\"name\": \"'Thank you' tour ends\", \"image\": {\"url\": \"https:\\/\\/www.bing.com\\/th?id=OPN.RTNews_09F4TQ8NHBYsbdCguxgyvw&c=7&rs=2&qlt=80&pcl=f9f9f9&pid=News\", \"provider\": [{\"_type\": \"Organization\", \"name\": \"© Mark Wallheiser\\/Getty Images\"}]}, \"webSearchUrl\": \"https:\\/\\/www.bing.com\\/cr?IG=2976991FF3094B0CA19B210262B1297D&CID=131DD588171769AF129FDC781626682D&rd=1&h=o91ItkMtHfK6ra2W88X-pM-ppNDGv-LydMY9cAJ5fx0&v=1&r=https%3a%2f%2fwww.bing.com%2fsearch%3fq%3dTrump%2bthank%2byou%2btour%2bMobile%26filters%3dtnTID%253a%2522060CC482-34D2-4d4e-B7BA-C267A7073191%2522%2btnVersion%253a%25221734823%2522%2bSegment%253a%2522popularnow.carousel%2522%2btnCol%253a%25222%2522%2btnScenario%253a%2522TrendingTopicsAPI%2522%2btnOrder%253a%252214a66490-265e-4455-b4e6-a9632d9b52f6%2522%26form%3dTNSA01&p=DevEx,5005.1\", \"isBreakingNews\": false, \"query\": {\"text\": \"Trump thank you tour Mobile\"}}, {\"name\": \"Week 15 scores\", \"image\": {\"url\": \"https:\\/\\/www.bing.com\\/th?id=OPN.RTNews_ykTQ3ItWqC_2eLLsdynvRg&c=7&rs=2&qlt=80&pcl=f9f9f9&pid=News\", \"provider\": [{\"_type\": \"Organization\", \"name\": \"© AP Photo\\/Frank Victores\"}]}, \"webSearchUrl\": \"https:\\/\\/www.bing.com\\/cr?IG=2976991FF3094B0CA19B210262B1297D&CID=131DD588171769AF129FDC781626682D&rd=1&h=KiCH6jowbC363E-Jd92igDcqZIDVvceDChtzLXy9aQQ&v=1&r=https%3a%2f%2fwww.bing.com%2fsearch%3fq%3dNFL%2bscores%26filters%3dtnTID%253a%2522E1C6E818-7417-48f7-821D-18639082B50F%2522%2btnVersion%253a%25221734823%2522%2bSegment%253a%2522popularnow.carousel%2522%2btnCol%253a%25223%2522%2btnScenario%253a%2522TrendingTopicsAPI%2522%2btnOrder%253a%252214a66490-265e-4455-b4e6-a9632d9b52f6%2522%26form%3dTNSA01&p=DevEx,5006.1\", \"isBreakingNews\": false, \"query\": {\"text\": \"NFL scores\"}}, {\"name\": \"Zsa Zsa Gabor dies\", \"image\": {\"url\": \"https:\\/\\/www.bing.com\\/th?id=OPN.RTNews_lQvZWN1ntnmrhezKHFf47Q&c=7&rs=2&qlt=80&pcl=f9f9f9&pid=News\", \"provider\": [{\"_type\": \"Organization\", \"name\": \"© Silverhub\\/REX\\/Shutterstock\"}]}, \"webSearchUrl\": \"https:\\/\\/www.bing.com\\/cr?IG=2976991FF3094B0CA19B210262B1297D&CID=131DD588171769AF129FDC781626682D&rd=1&h=kHuCp0BabUnYnqYyJTgkj4b4k0K42lw4lEq5AVwYymo&v=1&r=https%3a%2f%2fwww.bing.com%2fsearch%3fq%3dZsa%2bZsa%2bGabor%26filters%3dtnTID%253a%2522D08489C7-7913-49d3-9E5A-A96978F2DB3A%2522%2btnVersion%253a%25221734823%2522%2bSegment%253a%2522popularnow.carousel%2522%2btnCol%253a%25224%2522%2btnScenario%253a%2522TrendingTopicsAPI%2522%2btnOrder%253a%252214a66490-265e-4455-b4e6-a9632d9b52f6%2522%26form%3dTNSA01&p=DevEx,5007.1\", \"isBreakingNews\": false, \"query\": {\"text\": \"Zsa Zsa Gabor\"}}, {\"name\": \" Colima volcano erupts\", \"image\": {\"url\": \"https:\\/\\/www.bing.com\\/th?id=OPN.RTNews_EFDxZBpC1r9qhX5QTdzghA&c=7&rs=2&qlt=80&pcl=f9f9f9&pid=News\", \"provider\": [{\"_type\": \"Organization\", \"name\": \"© AFP\\/Hector Guerrero\"}]}, \"webSearchUrl\": \"https:\\/\\/www.bing.com\\/cr?IG=2976991FF3094B0CA19B210262B1297D&CID=131DD588171769AF129FDC781626682D&rd=1&h=1z9OOerUevv4WHub15QpyhJBaOfGejHkG5Mq-IofuXA&v=1&r=https%3a%2f%2fwww.bing.com%2fsearch%3fq%3d%2bColima%2bvolcano%2berupts%26filters%3dtnTID%253a%25220191181C-100C-4d77-943A-769543A18418%2522%2btnVersion%253a%25221734823%2522%2bSegment%253a%2522popularnow.carousel%2522%2btnCol%253a%25225%2522%2btnScenario%253a%2522TrendingTopicsAPI%2522%2btnOrder%253a%252214a66490-265e-4455-b4e6-a9632d9b52f6%2522%26form%3dTNSA01&p=DevEx,5008.1\", \"isBreakingNews\": false, \"query\": {\"text\": \" Colima volcano erupts\"}}, {\"name\": \"Ends hunger strike\", \"image\": {\"url\": \"https:\\/\\/www.bing.com\\/th?id=OPN.RTNews_Wbxf6zhKgk0rzrBUjNfiUw&c=7&rs=2&qlt=80&pcl=f9f9f9&pid=News\", \"provider\": [{\"_type\": \"Organization\", \"name\": \"© Reuters\\/Margarito Perez Retana\"}]}, \"webSearchUrl\": \"https:\\/\\/www.bing.com\\/cr?IG=2976991FF3094B0CA19B210262B1297D&CID=131DD588171769AF129FDC781626682D&rd=1&h=MPNiUCR6s-WseNQGIgIUg7GzABD7frdBahu4hPcOJWQ&v=1&r=https%3a%2f%2fwww.bing.com%2fsearch%3fq%3dCuauhtemoc%2bBlanco%26filters%3dtnTID%253a%2522EC4BF80A-D16F-478c-80F9-E0D04E633306%2522%2btnVersion%253a%25221734823%2522%2bSegment%253a%2522popularnow.carousel%2522%2btnCol%253a%25226%2522%2btnScenario%253a%2522TrendingTopicsAPI%2522%2btnOrder%253a%252214a66490-265e-4455-b4e6-a9632d9b52f6%2522%26form%3dTNSA01&p=DevEx,5009.1\", \"isBreakingNews\": false, \"query\": {\"text\": \"Cuauhtemoc Blanco\"}}, {\"name\": \"Solar twin discovery\", \"image\": {\"url\": \"https:\\/\\/www.bing.com\\/th?id=OPN.RTNews_fpAYEFtOzbkK8IURphT5cA&c=7&rs=2&qlt=80&pcl=f9f9f9&pid=News\", \"provider\": [{\"_type\": \"Organization\", \"name\": \"© NASA\"}]}, \"webSearchUrl\": \"https:\\/\\/www.bing.com\\/cr?IG=2976991FF3094B0CA19B210262B1297D&CID=131DD588171769AF129FDC781626682D&rd=1&h=Ybc0ia0GqNb84F_SD3aifUqtrid4Ro_GmLDqiRTvIKw&v=1&r=https%3a%2f%2fwww.bing.com%2fsearch%3fq%3dHIP68468%2bsolar%2btwin%26filters%3dtnTID%253a%252275804A72-B1C6-405f-9789-22E9F2E00DC4%2522%2btnVersion%253a%25221734823%2522%2bSegment%253a%2522popularnow.carousel%2522%2btnCol%253a%25227%2522%2btnScenario%253a%2522TrendingTopicsAPI%2522%2btnOrder%253a%252214a66490-265e-4455-b4e6-a9632d9b52f6%2522%26form%3dTNSA01&p=DevEx,5010.1\", \"isBreakingNews\": false, \"query\": {\"text\": \"HIP68468 solar twin\"}}, {\"name\": \"Plane crash in Papua\", \"image\": {\"url\": \"https:\\/\\/www.bing.com\\/th?id=OPN.RTNews_kv5csXw9oNjcs2DPO5x9DQ&c=7&rs=2&qlt=80&pcl=f9f9f9&pid=News\", \"provider\": [{\"_type\": \"Organization\", \"name\": \"© Antara Foto\\/Anyong via Reuters\"}]}, \"webSearchUrl\": \"https:\\/\\/www.bing.com\\/cr?IG=2976991FF3094B0CA19B210262B1297D&CID=131DD588171769AF129FDC781626682D&rd=1&h=7rM9GeWTPsFHG6nxPMhEOWqHLQ-GNeNwU_G2VCBzf2w&v=1&r=https%3a%2f%2fwww.bing.com%2fsearch%3fq%3dIndonesia%2bmilitary%2bplane%2bcrash%26filters%3dtnTID%253a%2522DA18EC85-1DCF-4027-99B8-276762DF60C5%2522%2btnVersion%253a%25221734823%2522%2bSegment%253a%2522popularnow.carousel%2522%2btnCol%253a%25228%2522%2btnScenario%253a%2522TrendingTopicsAPI%2522%2btnOrder%253a%252214a66490-265e-4455-b4e6-a9632d9b52f6%2522%26form%3dTNSA01&p=DevEx,5011.1\", \"isBreakingNews\": false, \"query\": {\"text\": \"Indonesia military plane crash\"}}, {\"name\": \"McCain calls for probe\", \"image\": {\"url\": \"https:\\/\\/www.bing.com\\/th?id=OPN.RTNews_udRLbaj2tMC_s43RSjOPCw&c=7&rs=2&qlt=80&pcl=f9f9f9&pid=News\", \"provider\": [{\"_type\": \"Organization\", \"name\": \"© AP Photo\\/Alex Brandon\\/File\"}]}, \"webSearchUrl\": \"https:\\/\\/www.bing.com\\/cr?IG=2976991FF3094B0CA19B210262B1297D&CID=131DD588171769AF129FDC781626682D&rd=1&h=6b4oxAOhTnW3vAgSfGo_J9kJ_T33FfFrP0nfyUzKEVs&v=1&r=https%3a%2f%2fwww.bing.com%2fsearch%3fq%3dJohn%2bMcCain%2bselect%2bcommittee%26filters%3dtnTID%253a%25221354581D-A68F-4321-992C-EAB6CF01B535%2522%2btnVersion%253a%25221734823%2522%2bSegment%253a%2522popularnow.carousel%2522%2btnCol%253a%25229%2522%2btnScenario%253a%2522TrendingTopicsAPI%2522%2btnOrder%253a%252214a66490-265e-4455-b4e6-a9632d9b52f6%2522%26form%3dTNSA01&p=DevEx,5012.1\", \"isBreakingNews\": false, \"query\": {\"text\": \"John McCain select committee\"}}, {\"name\": \"Ghost shark spotted\", \"image\": {\"url\": \"https:\\/\\/www.bing.com\\/th?id=OPN.RTNews_E5uR3CG87grzTehTwUl-_w&c=7&rs=2&qlt=80&pcl=f9f9f9&pid=News\", \"provider\": [{\"_type\": \"Organization\", \"name\": \"© National Geographic via YouTube\"}]}, \"webSearchUrl\": \"https:\\/\\/www.bing.com\\/cr?IG=2976991FF3094B0CA19B210262B1297D&CID=131DD588171769AF129FDC781626682D&rd=1&h=CE_bwXRTpH6F-Zy_B3O9N-lPAy7qsx-2JiwVVr1Czso&v=1&r=https%3a%2f%2fwww.bing.com%2fsearch%3fq%3dMBARI%2bghost%2bshark%26filters%3dtnTID%253a%25222DEF149F-B0E6-436f-9E23-C167C5E7F426%2522%2btnVersion%253a%25221734823%2522%2bSegment%253a%2522popularnow.carousel%2522%2btnCol%253a%252210%2522%2btnScenario%253a%2522TrendingTopicsAPI%2522%2btnOrder%253a%252214a66490-265e-4455-b4e6-a9632d9b52f6%2522%26form%3dTNSA01&p=DevEx,5013.1\", \"isBreakingNews\": false, \"query\": {\"text\": \"MBARI ghost shark\"}}, {\"name\": \"2013 cleanup continues\", \"image\": {\"url\": \"https:\\/\\/www.bing.com\\/th?id=OPN.RTNews_-YPDRJY3RI0N2HMs8syTMw&c=7&rs=2&qlt=80&pcl=f9f9f9&pid=News\", \"provider\": [{\"_type\": \"Organization\", \"name\": \"© AP Photo\\/Kevin Cederstrom\\/File\"}]}, \"webSearchUrl\": \"https:\\/\\/www.bing.com\\/cr?IG=2976991FF3094B0CA19B210262B1297D&CID=131DD588171769AF129FDC781626682D&rd=1&h=8oAaKtszfw901hl7_yGtSjmDLTdekh0ofh4xpyyl_ic&v=1&r=https%3a%2f%2fwww.bing.com%2fsearch%3fq%3dTesoro%2boil%2bspill%26filters%3dtnTID%253a%2522C0CF4A7C-CAC6-45f0-A53B-96288E3910EB%2522%2btnVersion%253a%25221734823%2522%2bSegment%253a%2522popularnow.carousel%2522%2btnCol%253a%252211%2522%2btnScenario%253a%2522TrendingTopicsAPI%2522%2btnOrder%253a%252214a66490-265e-4455-b4e6-a9632d9b52f6%2522%26form%3dTNSA01&p=DevEx,5014.1\", \"isBreakingNews\": false, \"query\": {\"text\": \"Tesoro oil spill\"}}, {\"name\": \"Traffic tunnels next?\", \"image\": {\"url\": \"https:\\/\\/www.bing.com\\/th?id=OPN.RTNews_1_49udkhPdSG7BvyQbbd0g&c=7&rs=2&qlt=80&pcl=f9f9f9&pid=News\", \"provider\": [{\"_type\": \"Organization\", \"name\": \"© Reuters\\/Stringer\"}]}, \"webSearchUrl\": \"https:\\/\\/www.bing.com\\/cr?IG=2976991FF3094B0CA19B210262B1297D&CID=131DD588171769AF129FDC781626682D&rd=1&h=4ZQpm5yqAcM_ZAavyW3Vbz9k4Rcd29-JTLmeZoDO7yo&v=1&r=https%3a%2f%2fwww.bing.com%2fsearch%3fq%3dElon%2bMusk%2btraffic%2btunnels%26filters%3dtnTID%253a%252280B734AD-8E51-4cd1-A211-3742D823E63F%2522%2btnVersion%253a%25221734823%2522%2bSegment%253a%2522popularnow.carousel%2522%2btnCol%253a%252212%2522%2btnScenario%253a%2522TrendingTopicsAPI%2522%2btnOrder%253a%252214a66490-265e-4455-b4e6-a9632d9b52f6%2522%26form%3dTNSA01&p=DevEx,5015.1\", \"isBreakingNews\": false, \"query\": {\"text\": \"Elon Musk traffic tunnels\"}}, {\"name\": \"Masterwork sets record\", \"image\": {\"url\": \"https:\\/\\/www.bing.com\\/th?id=OPN.RTNews_vywdgIEurzXSHCO-6zusWQ&c=7&rs=2&qlt=80&pcl=f9f9f9&pid=News\", \"provider\": [{\"_type\": \"Organization\", \"name\": \"© CCI\\/REX\\/Shutterstock\"}]}, \"webSearchUrl\": \"https:\\/\\/www.bing.com\\/cr?IG=2976991FF3094B0CA19B210262B1297D&CID=131DD588171769AF129FDC781626682D&rd=1&h=gJKAkTSuSbcLbPfhUGu1GH3kyEf0K-DJGvbh7UaPoM8&v=1&r=https%3a%2f%2fwww.bing.com%2fsearch%3fq%3dIsaac%2bNewton%2bauction%26filters%3dtnTID%253a%2522BC0B4A60-1979-4355-922C-1D0D44085B67%2522%2btnVersion%253a%25221734823%2522%2bSegment%253a%2522popularnow.carousel%2522%2btnCol%253a%252213%2522%2btnScenario%253a%2522TrendingTopicsAPI%2522%2btnOrder%253a%252214a66490-265e-4455-b4e6-a9632d9b52f6%2522%26form%3dTNSA01&p=DevEx,5016.1\", \"isBreakingNews\": false, \"query\": {\"text\": \"Isaac Newton auction\"}}, {\"name\": \"Sunday Night Football\", \"image\": {\"url\": \"https:\\/\\/www.bing.com\\/th?id=OPN.RTNews_GTQoLS-M3QnpEvRBDLCyAQ&c=7&rs=2&qlt=80&pcl=f9f9f9&pid=News\", \"provider\": [{\"_type\": \"Organization\", \"name\": \"© AP Photo\\/Ron Jenkins\"}]}, \"webSearchUrl\": \"https:\\/\\/www.bing.com\\/cr?IG=2976991FF3094B0CA19B210262B1297D&CID=131DD588171769AF129FDC781626682D&rd=1&h=9iOJSpKcL8gosZM2tVAdha4oTU_iGGQkzY264GWTruU&v=1&r=https%3a%2f%2fwww.bing.com%2fsearch%3fq%3dBuccaneers%2bvs.%2bCowboys%26filters%3dtnTID%253a%25221033697A-8012-4dec-90F2-B7A1C6DDB7BF%2522%2btnVersion%253a%25221734823%2522%2bSegment%253a%2522popularnow.carousel%2522%2btnCol%253a%252214%2522%2btnScenario%253a%2522TrendingTopicsAPI%2522%2btnOrder%253a%252214a66490-265e-4455-b4e6-a9632d9b52f6%2522%26form%3dTNSA01&p=DevEx,5017.1\", \"isBreakingNews\": false, \"query\": {\"text\": \"Buccaneers vs. Cowboys\"}}, {\"name\": \"Obama's food legacy\", \"image\": {\"url\": \"https:\\/\\/www.bing.com\\/th?id=OPN.RTNews_S4Rg3iYE4jf1ROiR1W-Q8g&c=7&rs=2&qlt=80&pcl=f9f9f9&pid=News\", \"provider\": [{\"_type\": \"Organization\", \"name\": \"© AP Photo\\/Jacquelyn Martin\"}]}, \"webSearchUrl\": \"https:\\/\\/www.bing.com\\/cr?IG=2976991FF3094B0CA19B210262B1297D&CID=131DD588171769AF129FDC781626682D&rd=1&h=XIWFCBHyHTCTKZngcFgl-CMVOgOWJsdoxSwlYQEnR7s&v=1&r=https%3a%2f%2fwww.bing.com%2fsearch%3fq%3dMichelle%2bObama%2bPHA%2blegacy%26filters%3dtnTID%253a%252251E00E18-2176-43a1-886B-C11EE54EB8FC%2522%2btnVersion%253a%25221734823%2522%2bSegment%253a%2522popularnow.carousel%2522%2btnCol%253a%252215%2522%2btnScenario%253a%2522TrendingTopicsAPI%2522%2btnOrder%253a%252214a66490-265e-4455-b4e6-a9632d9b52f6%2522%26form%3dTNSA01&p=DevEx,5018.1\", \"isBreakingNews\": false, \"query\": {\"text\": \"Michelle Obama PHA legacy\"}}, {\"name\": \"LA County cyberattack\", \"image\": {\"url\": \"https:\\/\\/www.bing.com\\/th?id=OPN.RTNews_xz-qU1ItdFGJ1nF0U3CQwg&c=7&rs=2&qlt=80&pcl=f9f9f9&pid=News\", \"provider\": [{\"_type\": \"Organization\", \"name\": \"© Kevork Djansezian\\/Getty Images\"}]}, \"webSearchUrl\": \"https:\\/\\/www.bing.com\\/cr?IG=2976991FF3094B0CA19B210262B1297D&CID=131DD588171769AF129FDC781626682D&rd=1&h=oGPbDIwtN671rP3qLV1zkJmFxkg-LAjGtf7cd4GBi2E&v=1&r=https%3a%2f%2fwww.bing.com%2fsearch%3fq%3dLA%2bCounty%2bphishing%2battack%26filters%3dtnTID%253a%2522FE31A28B-7878-4913-906A-CA967976A6BE%2522%2btnVersion%253a%25221734823%2522%2bSegment%253a%2522popularnow.carousel%2522%2btnCol%253a%252216%2522%2btnScenario%253a%2522TrendingTopicsAPI%2522%2btnOrder%253a%252214a66490-265e-4455-b4e6-a9632d9b52f6%2522%26form%3dTNSA01&p=DevEx,5019.1\", \"isBreakingNews\": false, \"query\": {\"text\": \"LA County phishing attack\"}}, {\"name\": \"15-term congressman\", \"image\": {\"url\": \"https:\\/\\/www.bing.com\\/th?id=OPN.RTNews_k-HJ1ws92bww3pK7yKX0DA&c=7&rs=2&qlt=80&pcl=f9f9f9&pid=News\", \"provider\": [{\"_type\": \"Organization\", \"name\": \"© AP Photo\\/Charles Tasnadi\"}]}, \"webSearchUrl\": \"https:\\/\\/www.bing.com\\/cr?IG=2976991FF3094B0CA19B210262B1297D&CID=131DD588171769AF129FDC781626682D&rd=1&h=wF4SpyK8zcoOg7suEgTzr6Ar57sodwjz5aCvqryMnTk&v=1&r=https%3a%2f%2fwww.bing.com%2fsearch%3fq%3dBenjamin%2bGilman%26filters%3dtnTID%253a%25228696DC11-32B4-4c13-A0E5-21610CFD3B17%2522%2btnVersion%253a%25221734823%2522%2bSegment%253a%2522popularnow.carousel%2522%2btnCol%253a%252217%2522%2btnScenario%253a%2522TrendingTopicsAPI%2522%2btnOrder%253a%252214a66490-265e-4455-b4e6-a9632d9b52f6%2522%26form%3dTNSA01&p=DevEx,5020.1\", \"isBreakingNews\": false, \"query\": {\"text\": \"Benjamin Gilman\"}}, {\"name\": \"EchoStar 19 launch\", \"image\": {\"url\": \"https:\\/\\/www.bing.com\\/th?id=OPN.RTNews_xq2IP4u32Och5vubQXGagA&c=7&rs=2&qlt=80&pcl=f9f9f9&pid=News\", \"provider\": [{\"_type\": \"Organization\", \"name\": \"© REX Images\"}]}, \"webSearchUrl\": \"https:\\/\\/www.bing.com\\/cr?IG=2976991FF3094B0CA19B210262B1297D&CID=131DD588171769AF129FDC781626682D&rd=1&h=xEBCA3LsIe9A_g-LRTL6FlQQ_rZcE4odT4GBhN9KpB0&v=1&r=https%3a%2f%2fwww.bing.com%2fsearch%3fq%3dAtlas%2bV%2brocket%2blaunch%26filters%3dtnTID%253a%2522447C6CC3-748A-494a-B065-ECC5B2E6A044%2522%2btnVersion%253a%25221734823%2522%2bSegment%253a%2522popularnow.carousel%2522%2btnCol%253a%252218%2522%2btnScenario%253a%2522TrendingTopicsAPI%2522%2btnOrder%253a%252214a66490-265e-4455-b4e6-a9632d9b52f6%2522%26form%3dTNSA01&p=DevEx,5021.1\", \"isBreakingNews\": false, \"query\": {\"text\": \"Atlas V rocket launch\"}}, {\"name\": \"Jaguars fire Bradley\", \"image\": {\"url\": \"https:\\/\\/www.bing.com\\/th?id=OPN.RTNews_jfGerrNKnMKUFT-8RQgJ2Q&c=7&rs=2&qlt=80&pcl=f9f9f9&pid=News\", \"provider\": [{\"_type\": \"Organization\", \"name\": \"© AP Photo\\/David . Phillip\"}]}, \"webSearchUrl\": \"https:\\/\\/www.bing.com\\/cr?IG=2976991FF3094B0CA19B210262B1297D&CID=131DD588171769AF129FDC781626682D&rd=1&h=wLikI5YBl_dSBBzwOUk_DFkHav2OeMq3TdXjwHmqULQ&v=1&r=https%3a%2f%2fwww.bing.com%2fsearch%3fq%3dGus%2bBradley%26filters%3dtnTID%253a%2522FE3BFC2A-7F3A-4af8-9977-A4C1C254CA41%2522%2btnVersion%253a%25221734823%2522%2bSegment%253a%2522popularnow.carousel%2522%2btnCol%253a%252219%2522%2btnScenario%253a%2522TrendingTopicsAPI%2522%2btnOrder%253a%252214a66490-265e-4455-b4e6-a9632d9b52f6%2522%26form%3dTNSA01&p=DevEx,5022.1\", \"isBreakingNews\": false, \"query\": {\"text\": \"Gus Bradley\"}}, {\"name\": \"Pushes e-cig review\", \"image\": {\"url\": \"https:\\/\\/www.bing.com\\/th?id=OPN.RTNews_13CGtxMaqcNWCsQH89pO3Q&c=7&rs=2&qlt=80&pcl=f9f9f9&pid=News\", \"provider\": [{\"_type\": \"Organization\", \"name\": \"© AP Photo\\/Andrew Harnik\"}]}, \"webSearchUrl\": \"https:\\/\\/www.bing.com\\/cr?IG=2976991FF3094B0CA19B210262B1297D&CID=131DD588171769AF129FDC781626682D&rd=1&h=9aJf-xkR57Dyg-gQP0kvg-CNij78s8bd4TDKfy2Gckk&v=1&r=https%3a%2f%2fwww.bing.com%2fsearch%3fq%3dChuck%2bSchumer%2be-cigarettes%26filters%3dtnTID%253a%25221B814BAF-31C1-46fa-9371-87DFF0147485%2522%2btnVersion%253a%25221734823%2522%2bSegment%253a%2522popularnow.carousel%2522%2btnCol%253a%252220%2522%2btnScenario%253a%2522TrendingTopicsAPI%2522%2btnOrder%253a%252214a66490-265e-4455-b4e6-a9632d9b52f6%2522%26form%3dTNSA01&p=DevEx,5023.1\", \"isBreakingNews\": false, \"query\": {\"text\": \"Chuck Schumer e-cigarettes\"}}, {\"name\": \"UN resolution on Syria\", \"image\": {\"url\": \"https:\\/\\/www.bing.com\\/th?id=OPN.RTNews_UkvoCNvbrvJsya9oomutFg&c=7&rs=2&qlt=80&pcl=f9f9f9&pid=News\", \"provider\": [{\"_type\": \"Organization\", \"name\": \"© AP Photo\\/Craig Ruttle\"}]}, \"webSearchUrl\": \"https:\\/\\/www.bing.com\\/cr?IG=2976991FF3094B0CA19B210262B1297D&CID=131DD588171769AF129FDC781626682D&rd=1&h=WmSeZFpfjf255FB-QC9tqLx2coqJogoOfiu-h4KpS74&v=1&r=https%3a%2f%2fwww.bing.com%2fsearch%3fq%3dRussia%2bSecurity%2bCouncil%2bresolution%26filters%3dtnTID%253a%2522C686F967-98B0-488d-8884-F380BE5A1761%2522%2btnVersion%253a%25221734823%2522%2bSegment%253a%2522popularnow.carousel%2522%2btnCol%253a%252221%2522%2btnScenario%253a%2522TrendingTopicsAPI%2522%2btnOrder%253a%252214a66490-265e-4455-b4e6-a9632d9b52f6%2522%26form%3dTNSA01&p=DevEx,5024.1\", \"isBreakingNews\": false, \"query\": {\"text\": \"Russia Security Council resolution\"}}, {\"name\": \"Raiders playoff bound\", \"image\": {\"url\": \"https:\\/\\/www.bing.com\\/th?id=OPN.RTNews_bMptuZ2QrUVCD8035rADsg&c=7&rs=2&qlt=80&pcl=f9f9f9&pid=News\", \"provider\": [{\"_type\": \"Organization\", \"name\": \"© Donald Miralle\\/Getty Images\"}]}, \"webSearchUrl\": \"https:\\/\\/www.bing.com\\/cr?IG=2976991FF3094B0CA19B210262B1297D&CID=131DD588171769AF129FDC781626682D&rd=1&h=6QzmnOFtKMD1pUEmLrCqjrYtsZgqvIA7Qp0h5XpGhWo&v=1&r=https%3a%2f%2fwww.bing.com%2fsearch%3fq%3dRaiders%2bplayoff%2bberth%26filters%3dtnTID%253a%2522A5B53B35-B2E4-4f2c-A76F-ACBF9EE6A221%2522%2btnVersion%253a%25221734823%2522%2bSegment%253a%2522popularnow.carousel%2522%2btnCol%253a%252222%2522%2btnScenario%253a%2522TrendingTopicsAPI%2522%2btnOrder%253a%252214a66490-265e-4455-b4e6-a9632d9b52f6%2522%26form%3dTNSA01&p=DevEx,5025.1\", \"isBreakingNews\": false, \"query\": {\"text\": \"Raiders playoff berth\"}}, {\"name\": \"Tree falls on party\", \"image\": {\"url\": \"https:\\/\\/www.bing.com\\/th?id=OPN.RTNews_m2JrRzmh3_sMmHERhW07Lg&c=7&rs=2&qlt=80&pcl=f9f9f9&pid=News\", \"provider\": [{\"_type\": \"Organization\", \"name\": \"© Keith Durflinger\\/The Whitter Daily News via AP\"}]}, \"webSearchUrl\": \"https:\\/\\/www.bing.com\\/cr?IG=2976991FF3094B0CA19B210262B1297D&CID=131DD588171769AF129FDC781626682D&rd=1&h=5uMutUr_TmcWHwqwGi7pOZokmMqYtcc20O293JDSI5M&v=1&r=https%3a%2f%2fwww.bing.com%2fsearch%3fq%3dTree%2bfalls%2bon%2bwedding%2bparty%26filters%3dtnTID%253a%2522BADAC6EB-B2AF-4eaf-9A1C-62103FF048C6%2522%2btnVersion%253a%25221734823%2522%2bSegment%253a%2522popularnow.carousel%2522%2btnCol%253a%252223%2522%2btnScenario%253a%2522TrendingTopicsAPI%2522%2btnOrder%253a%252214a66490-265e-4455-b4e6-a9632d9b52f6%2522%26form%3dTNSA01&p=DevEx,5026.1\", \"isBreakingNews\": false, \"query\": {\"text\": \"Tree falls on wedding party\"}}, {\"name\": \"On This Day: 1892\", \"image\": {\"url\": \"https:\\/\\/www.bing.com\\/th?id=OPN.RTNews_1MhDSvDlhI6byNsYjGyfwQ&c=7&rs=2&qlt=80&pcl=f9f9f9&pid=News\", \"provider\": [{\"_type\": \"Organization\", \"name\": \"© Public domain\"}]}, \"webSearchUrl\": \"https:\\/\\/www.bing.com\\/cr?IG=2976991FF3094B0CA19B210262B1297D&CID=131DD588171769AF129FDC781626682D&rd=1&h=I288QaBfMxgENEp6NvHvYHwio7WGXJSHRM_4tB0YiTU&v=1&r=https%3a%2f%2fwww.bing.com%2fsearch%3fq%3dOn%2bthis%2bday%2bin%2bhistory%26filters%3dtnTID%253a%252279399A00-1FC2-4612-B57F-DEE81A910EE2%2522%2btnVersion%253a%25221734823%2522%2bSegment%253a%2522popularnow.carousel%2522%2btnCol%253a%252224%2522%2btnScenario%253a%2522TrendingTopicsAPI%2522%2btnOrder%253a%252214a66490-265e-4455-b4e6-a9632d9b52f6%2522%26form%3dTNSA01&p=DevEx,5027.1\", \"isBreakingNews\": false, \"query\": {\"text\": \"On this day in history\"}}, {\"name\": \"Hopkins knocked out\", \"image\": {\"url\": \"https:\\/\\/www.bing.com\\/th?id=OPN.RTNews_xpsa_Bq5ezIoDyNGmwnrDA&c=7&rs=2&qlt=80&pcl=f9f9f9&pid=News\", \"provider\": [{\"_type\": \"Organization\", \"name\": \"© Jayne Kamin-Oncea\\/USA Today Sports\"}]}, \"webSearchUrl\": \"https:\\/\\/www.bing.com\\/cr?IG=2976991FF3094B0CA19B210262B1297D&CID=131DD588171769AF129FDC781626682D&rd=1&h=OnoRtmP9Wy43mwT7a3YjZmA73pAwOBFluzk2jD5ESUM&v=1&r=https%3a%2f%2fwww.bing.com%2fsearch%3fq%3dBernard%2bHopkins%26filters%3dtnTID%253a%252288B22AF6-4182-4390-9037-230C52736E52%2522%2btnVersion%253a%25221734823%2522%2bSegment%253a%2522popularnow.carousel%2522%2btnCol%253a%252225%2522%2btnScenario%253a%2522TrendingTopicsAPI%2522%2btnOrder%253a%252214a66490-265e-4455-b4e6-a9632d9b52f6%2522%26form%3dTNSA01&p=DevEx,5028.1\", \"isBreakingNews\": false, \"query\": {\"text\": \"Bernard Hopkins\"}}, {\"name\": \"FIFA Club World Cup\", \"image\": {\"url\": \"https:\\/\\/www.bing.com\\/th?id=OPN.RTNews_R6rleyCPLTr3WjofEV5Rdg&c=7&rs=2&qlt=80&pcl=f9f9f9&pid=News\", \"provider\": [{\"_type\": \"Organization\", \"name\": \"© Toshifumi Kitamura\\/AFP\\/Getty Images\"}]}, \"webSearchUrl\": \"https:\\/\\/www.bing.com\\/cr?IG=2976991FF3094B0CA19B210262B1297D&CID=131DD588171769AF129FDC781626682D&rd=1&h=Qd_4sjVWlS_sdkcqodVwKhKGF4Mp_Bu47gdGHDxCo4w&v=1&r=https%3a%2f%2fwww.bing.com%2fsearch%3fq%3dClub%2bWorld%2bCup%2btitle%26filters%3dtnTID%253a%25226D3E6089-A9C6-46d6-95B3-2958D0BCEF72%2522%2btnVersion%253a%25221734823%2522%2bSegment%253a%2522popularnow.carousel%2522%2btnCol%253a%252226%2522%2btnScenario%253a%2522TrendingTopicsAPI%2522%2btnOrder%253a%252214a66490-265e-4455-b4e6-a9632d9b52f6%2522%26form%3dTNSA01&p=DevEx,5029.1\", \"isBreakingNews\": false, \"query\": {\"text\": \"Club World Cup title\"}}, {\"name\": \"'Rogue One' soars\", \"image\": {\"url\": \"https:\\/\\/www.bing.com\\/th?id=OPN.RTNews_rOOb0hvXABjMtnGReUbvjQ&c=7&rs=2&qlt=80&pcl=f9f9f9&pid=News\", \"provider\": [{\"_type\": \"Organization\", \"name\": \"© Jonathan Olley\\/Lucasfilm\"}]}, \"webSearchUrl\": \"https:\\/\\/www.bing.com\\/cr?IG=2976991FF3094B0CA19B210262B1297D&CID=131DD588171769AF129FDC781626682D&rd=1&h=pjt8hO_CyJAC93wTImoFw3yXHCYXOEU8w-yGqR3uTV0&v=1&r=https%3a%2f%2fwww.bing.com%2fsearch%3fq%3dRogue%2bOne%2bbox%2boffice%2bweekend%26filters%3dtnTID%253a%252292DE6134-9905-43e1-89DE-2F49D333E07A%2522%2btnVersion%253a%25221734823%2522%2bSegment%253a%2522popularnow.carousel%2522%2btnCol%253a%252227%2522%2btnScenario%253a%2522TrendingTopicsAPI%2522%2btnOrder%253a%252214a66490-265e-4455-b4e6-a9632d9b52f6%2522%26form%3dTNSA01&p=DevEx,5030.1\", \"isBreakingNews\": false, \"query\": {\"text\": \"Rogue One box office weekend\"}}, {\"name\": \"City water ban lifted\", \"image\": {\"url\": \"https:\\/\\/www.bing.com\\/th?id=OPN.RTNews_Lg13lHUiaJp2gHSfYzdfKg&c=7&rs=2&qlt=80&pcl=f9f9f9&pid=News\", \"provider\": [{\"_type\": \"Organization\", \"name\": \"© AP Photo\\/Frank Bajak\"}]}, \"webSearchUrl\": \"https:\\/\\/www.bing.com\\/cr?IG=2976991FF3094B0CA19B210262B1297D&CID=131DD588171769AF129FDC781626682D&rd=1&h=VxeVOaqb3Pw0dDVKYALA9iE1wQo4nOoPfmeKVL2T5E4&v=1&r=https%3a%2f%2fwww.bing.com%2fsearch%3fq%3dCorpus%2bChristi%2bwater%2bban%2blifted%26filters%3dtnTID%253a%2522AD867B95-FFEB-4317-A94F-709500E7B8B9%2522%2btnVersion%253a%25221734823%2522%2bSegment%253a%2522popularnow.carousel%2522%2btnCol%253a%252228%2522%2btnScenario%253a%2522TrendingTopicsAPI%2522%2btnOrder%253a%252214a66490-265e-4455-b4e6-a9632d9b52f6%2522%26form%3dTNSA01&p=DevEx,5031.1\", \"isBreakingNews\": false, \"query\": {\"text\": \"Corpus Christi water ban lifted\"}}, {\"name\": \"Evacuation of Aleppo\", \"image\": {\"url\": \"https:\\/\\/www.bing.com\\/th?id=OPN.RTNews_1BH1mBPQoeI5PiNDv3eXow&c=7&rs=2&qlt=80&pcl=f9f9f9&pid=News\", \"provider\": [{\"_type\": \"Organization\", \"name\": \"© SANA via AP\"}]}, \"webSearchUrl\": \"https:\\/\\/www.bing.com\\/cr?IG=2976991FF3094B0CA19B210262B1297D&CID=131DD588171769AF129FDC781626682D&rd=1&h=ycsPmIvYcxdeP6gmQmNM6fRdOYXSEd4Ne6hlIrDlMQw&v=1&r=https%3a%2f%2fwww.bing.com%2fsearch%3fq%3dAleppo%2bevacuation%2bdeal%26filters%3dtnTID%253a%252250793A85-C8A3-4d37-9004-417C192369CB%2522%2btnVersion%253a%25221734823%2522%2bSegment%253a%2522popularnow.carousel%2522%2btnCol%253a%252229%2522%2btnScenario%253a%2522TrendingTopicsAPI%2522%2btnOrder%253a%252214a66490-265e-4455-b4e6-a9632d9b52f6%2522%26form%3dTNSA01&p=DevEx,5032.1\", \"isBreakingNews\": false, \"query\": {\"text\": \"Aleppo evacuation deal\"}}]}\n"
     ]
    }
   ],
   "source": [
    "try:\n",
    "    conn = http.client.HTTPSConnection('api.cognitive.microsoft.com')\n",
    "    conn.request(\"GET\", \"/bing/v5.0/news/trendingtopics?%s\" % params, \"{body}\", headers)\n",
    "    response = conn.getresponse()\n",
    "    data = response.read().decode('utf8')# decode it from bytes to string\n",
    "    print(data)\n",
    "    conn.close()\n",
    "except Exception as e:\n",
    "    print(\"[Errno {0}] {1}\".format(e.errno, e.strerror))"
   ]
  },
  {
   "cell_type": "code",
   "execution_count": 6,
   "metadata": {
    "collapsed": false
   },
   "outputs": [],
   "source": [
    "data2=json.loads(data)"
   ]
  },
  {
   "cell_type": "code",
   "execution_count": 7,
   "metadata": {
    "collapsed": false
   },
   "outputs": [
    {
     "data": {
      "text/plain": [
       "\"'Thank you' tour ends\""
      ]
     },
     "execution_count": 7,
     "metadata": {},
     "output_type": "execute_result"
    }
   ],
   "source": [
    "data2['value'][2]['name']"
   ]
  },
  {
   "cell_type": "code",
   "execution_count": 8,
   "metadata": {
    "collapsed": false
   },
   "outputs": [
    {
     "name": "stdout",
     "output_type": "stream",
     "text": [
      "Gun attacks in Jordan\n",
      "Electoral College vote\n",
      "'Thank you' tour ends\n",
      "Week 15 scores\n",
      "Zsa Zsa Gabor dies\n",
      " Colima volcano erupts\n",
      "Ends hunger strike\n",
      "Solar twin discovery\n",
      "Plane crash in Papua\n",
      "McCain calls for probe\n",
      "Ghost shark spotted\n",
      "2013 cleanup continues\n",
      "Traffic tunnels next?\n",
      "Masterwork sets record\n",
      "Sunday Night Football\n",
      "Obama's food legacy\n",
      "LA County cyberattack\n",
      "15-term congressman\n",
      "EchoStar 19 launch\n",
      "Jaguars fire Bradley\n",
      "Pushes e-cig review\n",
      "UN resolution on Syria\n",
      "Raiders playoff bound\n",
      "Tree falls on party\n",
      "On This Day: 1892\n",
      "Hopkins knocked out\n",
      "FIFA Club World Cup\n",
      "'Rogue One' soars\n",
      "City water ban lifted\n",
      "Evacuation of Aleppo\n"
     ]
    }
   ],
   "source": [
    "#get names of the trending news headline\n",
    "for i in range(0, len(data2['value'])):  \n",
    "    print (data2['value'][i]['name'])\n",
    "    \n"
   ]
  },
  {
   "cell_type": "code",
   "execution_count": null,
   "metadata": {
    "collapsed": true
   },
   "outputs": [],
   "source": []
  },
  {
   "cell_type": "code",
   "execution_count": null,
   "metadata": {
    "collapsed": true
   },
   "outputs": [],
   "source": []
  }
 ],
 "metadata": {
  "anaconda-cloud": {},
  "kernelspec": {
   "display_name": "Python 3",
   "language": "python",
   "name": "python3"
  },
  "language_info": {
   "codemirror_mode": {
    "name": "ipython",
    "version": 3
   },
   "file_extension": ".py",
   "mimetype": "text/x-python",
   "name": "python",
   "nbconvert_exporter": "python",
   "pygments_lexer": "ipython3",
   "version": "3.5.2"
  }
 },
 "nbformat": 4,
 "nbformat_minor": 1
}
